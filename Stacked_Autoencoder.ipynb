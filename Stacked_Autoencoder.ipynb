{
  "nbformat": 4,
  "nbformat_minor": 0,
  "metadata": {
    "colab": {
      "name": "Stacked Autoencoder",
      "version": "0.3.2",
      "provenance": [],
      "collapsed_sections": []
    },
    "kernelspec": {
      "name": "python3",
      "display_name": "Python 3"
    }
  },
  "cells": [
    {
      "metadata": {
        "id": "bYyqLI7iVq7l",
        "colab_type": "text"
      },
      "cell_type": "markdown",
      "source": [
        "##This is a stacked autoencoder\n",
        "\n"
      ]
    },
    {
      "metadata": {
        "id": "s5YgjxuPb3WJ",
        "colab_type": "code",
        "colab": {
          "base_uri": "https://localhost:8080/",
          "height": 35
        },
        "outputId": "078c377f-ff72-4c68-90b7-0b1d5f94648e"
      },
      "cell_type": "code",
      "source": [
        "# this is just to suppress some anoying warning messages\n",
        "import warnings\n",
        "with warnings.catch_warnings():\n",
        "    warnings.filterwarnings(\"ignore\",category=FutureWarning)\n",
        "    import h5py\n",
        "\n",
        "import sys\n",
        "import numpy as np\n",
        "\n",
        "import tensorflow as tf\n",
        "from keras.layers import Dense\n",
        "from keras.models import Sequential, load_model\n",
        "from keras.callbacks import Callback, EarlyStopping\n",
        "import keras as K\n",
        "\n",
        "from keras.datasets import mnist\n",
        "\n",
        "import matplotlib.pyplot as plt\n",
        "from matplotlib.lines import Line2D\n",
        "import time\n",
        "\n",
        "# needed in Google Colaboratory for callback plots:\n",
        "from IPython.display import clear_output\n",
        "# needed in notebooks for plotting:\n",
        "%matplotlib inline\n",
        "\n",
        "from skimage.measure import compare_mse\n",
        "from sklearn.svm import SVC\n",
        "from sklearn.metrics import accuracy_score"
      ],
      "execution_count": 1,
      "outputs": [
        {
          "output_type": "stream",
          "text": [
            "Using TensorFlow backend.\n"
          ],
          "name": "stderr"
        }
      ]
    },
    {
      "metadata": {
        "id": "VuVqkz_icB0i",
        "colab_type": "code",
        "colab": {}
      },
      "cell_type": "code",
      "source": [
        "# callback class for training visualisation and console print\n",
        "class LogCallback(Callback):\n",
        "    def __init__(self):\n",
        "\n",
        "      def on_train_begin(self, logs= None):\n",
        "          self.start_time = time.time()\n",
        "          self.fig = plt.figure(figsize=(5,4))\n",
        "          self.ax1 = self.fig.add_subplot(111)\n",
        "          self.ax1.set_xlabel('Iteration')\n",
        "          self.ax1.set_ylabel('Loss')\n",
        "          self.ax1.set_title('Loss Curve')\n",
        "          self.ax1.grid()\n",
        "\n",
        "          custom_lines = [Line2D([0], [0], color='r', lw=1),\n",
        "                          Line2D([0], [0], color='g', lw=1)]\n",
        "\n",
        "          self.ax1.legend(custom_lines, ['Training', 'Test'])\n",
        "\n",
        "          plt.tight_layout()\n",
        "          self.train_losses = []\n",
        "          self.test_losses = []\n",
        "          self.train_acc = []\n",
        "          self.test_acc = []\n",
        "          self.min_test_loss= np.Inf\n",
        "          self.no_improve_cnt= 0\n",
        "\n",
        "      def on_epoch_begin(self, epoch, logs= None):\n",
        "          self.start_time_epoche = time.time()\n",
        "\n",
        "      def on_epoch_end(self, epoch, logs=None):\n",
        "          self.elapsed_epoch_time= time.time()-self.start_time_epoche\n",
        "          self.train_losses.append(logs.get('loss'))\n",
        "          self.test_losses.append(logs.get('val_loss'))\n",
        "          self.train_acc.append(logs.get('acc'))\n",
        "          self.test_acc.append(logs.get('val_acc'))\n",
        "\n",
        "          clear_output(wait=True)\n",
        "\n",
        "          self.ax1.plot(self.train_losses, linewidth=.5, color='r')\n",
        "          self.ax1.plot(self.test_losses, linewidth=.5, color='g')\n",
        "          self.ax1.set_ylim([0, max([self.train_losses, self.test_losses])[0]])\n",
        "\n",
        "          plt.draw()\n",
        "          plt.show()\n",
        "          #plt.pause(0.0001)\n",
        "\n",
        "          print('Epoche %i/%i: train loss: %.4f - test loss: %.4f  [time: %.4f sec.]' %\n",
        "               (len(self.train_losses), max_epoches, self.train_losses[-1], self.test_losses[-1],\n",
        "                self.elapsed_epoch_time))\n",
        "\n",
        "          if (len(self.test_losses) > 1) and (self.test_losses[-1] < (self.min_test_loss - delta)):\n",
        "              self.min_test_loss= self.test_losses[-1]\n",
        "              self.no_improve_cnt= 0\n",
        "          else:\n",
        "              self.no_improve_cnt += 1\n",
        "\n",
        "          if self.no_improve_cnt == patience:\n",
        "             print('\\nNo improvement for %i epoches. Performing early stopping.' % patience)\n",
        "\n",
        "      def on_train_end(self, logs= None):\n",
        "          print('\\nTotal training time: %.2f sec.' % (time.time()-self.start_time))"
      ],
      "execution_count": 0,
      "outputs": []
    },
    {
      "metadata": {
        "id": "SRdFQXniROuZ",
        "colab_type": "code",
        "colab": {}
      },
      "cell_type": "code",
      "source": [
        "class LogCallback(Callback):\n",
        "  def on_train_begin(self, logs={}):\n",
        "    self.i = 0\n",
        "    self.x = []\n",
        "    self.losses = []\n",
        "    self.val_losses = []\n",
        "    self.acc = []\n",
        "    self.val_acc = []\n",
        "    self.fig = plt.figure()\n",
        "    self.logs = []\n",
        "    self.start_time = time.time()\n",
        "    self.no_improve_cnt= 0\n",
        "    self.min_test_loss= np.Inf\n",
        "\n",
        "  def on_epoch_end(self, epoch, logs={None}):\n",
        "    self.logs.append(logs)\n",
        "    self.x.append(self.i)\n",
        "    self.i += 1\n",
        "    self.losses.append(logs.get('loss'))\n",
        "    self.val_losses.append(logs.get('val_loss'))\n",
        "    self.acc.append(logs.get('acc'))\n",
        "    self.val_acc.append(logs.get('val_acc'))\n",
        "\n",
        "    f, (ax1, ax2) = plt.subplots(1, 2, sharex=True)\n",
        "\n",
        "    clear_output(wait=True)\n",
        "\n",
        "    ax1.plot(self.x, self.losses, label=\"loss\")\n",
        "    ax1.plot(self.x, self.val_losses, label=\"validation loss\")\n",
        "    ax1.legend()\n",
        "\n",
        "    ax2.plot(self.x, self.acc, label=\"accuracy\")\n",
        "    ax2.plot(self.x, self.val_acc, label=\"validation accuracy\")\n",
        "    ax2.legend()\n",
        "\n",
        "    plt.show()\n",
        "\n",
        "  def on_train_end(self, logs=None):\n",
        "    print(f'Total training time: {time.time()-self.start_time:.2f} sec.')"
      ],
      "execution_count": 0,
      "outputs": []
    },
    {
      "metadata": {
        "id": "S3IJ9XKOcFwn",
        "colab_type": "code",
        "colab": {}
      },
      "cell_type": "code",
      "source": [
        "# a function for plotting a specified number of images: original vs. encoded vs. decoded\n",
        "def plot_encoded_img(imgs, encoded_img, rnd_idx, aspect_ratio=0.1, decoded_img= None, title= None):\n",
        "    plt.figure(figsize=(18, 8))\n",
        "    if title is not None:\n",
        "        plt.suptitle(title, fontsize= 16)\n",
        "\n",
        "    for i, image_idx in enumerate(rnd_idx):\n",
        "        # plot original image\n",
        "        ax = plt.subplot(3, num_images, i + 1)\n",
        "        plt.imshow(imgs[image_idx].reshape(28, 28))\n",
        "        plt.gray()\n",
        "        ax.get_xaxis().set_visible(False)\n",
        "        ax.get_yaxis().set_visible(False)\n",
        "\n",
        "        # plot encoded image\n",
        "        ax = plt.subplot(3, num_images, num_images + i + 1)\n",
        "        # plt.imshow(encoded_imgs[image_idx].reshape(8, 4))\n",
        "\n",
        "        plt.imshow(encoded_img[image_idx].reshape(-1, 1), aspect=aspect_ratio)\n",
        "        # print(tabulate(encoded_imgs[image_idx].reshape(1,-1), tablefmt= 'plain', floatfmt=\".4f\"))\n",
        "\n",
        "        plt.gray()\n",
        "        ax.get_xaxis().set_visible(False)\n",
        "        ax.get_yaxis().set_visible(False)\n",
        "\n",
        "        if decoded_img is not None:\n",
        "            # plot reconstructed image\n",
        "            ax = plt.subplot(3, num_images, 2 * num_images + i + 1)\n",
        "            plt.imshow(decoded_img[image_idx].reshape(28, 28))\n",
        "            plt.gray()\n",
        "            ax.get_xaxis().set_visible(False)\n",
        "            ax.get_yaxis().set_visible(False)\n",
        "  #plt.show()"
      ],
      "execution_count": 0,
      "outputs": []
    },
    {
      "metadata": {
        "id": "VzzX2duBcK_-",
        "colab_type": "code",
        "outputId": "9bc75da3-6f02-45fb-82d0-4a80cbf0df76",
        "colab": {
          "base_uri": "https://localhost:8080/",
          "height": 88
        }
      },
      "cell_type": "code",
      "source": [
        "print('NumPy Version: %s' % np.__version__)\n",
        "print('Tensorflow Version: %s' % tf.__version__)\n",
        "print('Keras Version: %s\\n' % K.__version__)"
      ],
      "execution_count": 6,
      "outputs": [
        {
          "output_type": "stream",
          "text": [
            "NumPy Version: 1.14.6\n",
            "Tensorflow Version: 1.12.0\n",
            "Keras Version: 2.2.4\n",
            "\n"
          ],
          "name": "stdout"
        }
      ]
    },
    {
      "metadata": {
        "id": "LinbXR0HcRZ_",
        "colab_type": "code",
        "colab": {}
      },
      "cell_type": "code",
      "source": [
        "# definition of early stopping object here\n",
        "patience= 5\n",
        "early_stop = EarlyStopping(monitor='val_loss', min_delta=1e-04, patience=patience, mode='auto')\n",
        "\n",
        "max_epoches= 25\n",
        "delta= 1e-4\n",
        "batch_size=128\n",
        "DoTraining= 1"
      ],
      "execution_count": 0,
      "outputs": []
    },
    {
      "metadata": {
        "id": "AB_AHzDlcSxO",
        "colab_type": "code",
        "outputId": "a5fc6d27-447a-466c-903a-9f5dce67f08e",
        "colab": {
          "base_uri": "https://localhost:8080/",
          "height": 53
        }
      },
      "cell_type": "code",
      "source": [
        "# load the mnist image data (28x28px)\n",
        "(x_train, _), (x_test, _) = mnist.load_data()"
      ],
      "execution_count": 8,
      "outputs": [
        {
          "output_type": "stream",
          "text": [
            "Downloading data from https://s3.amazonaws.com/img-datasets/mnist.npz\n",
            "11493376/11490434 [==============================] - 1s 0us/step\n"
          ],
          "name": "stdout"
        }
      ]
    },
    {
      "metadata": {
        "id": "DiR7Yf5McWVw",
        "colab_type": "code",
        "colab": {}
      },
      "cell_type": "code",
      "source": [
        "# for selection of just a subset (faster computation to check if everything runs ok)\n",
        "# X_train= X_train[0:1000,:]\n",
        "# X_test= X_test[0:200,:]\n",
        "#\n",
        "# Y_train= Y_train[0:1000]\n",
        "# y_test= y_test[0:200]"
      ],
      "execution_count": 0,
      "outputs": []
    },
    {
      "metadata": {
        "id": "5OvmvjRzcj69",
        "colab_type": "code",
        "outputId": "b76ceead-fecb-4043-a4a5-1b96f74382c5",
        "colab": {
          "base_uri": "https://localhost:8080/",
          "height": 53
        }
      },
      "cell_type": "code",
      "source": [
        "# normalize images within the interval [0,1]\n",
        "x_train = x_train.astype('float32') / 255.\n",
        "x_test = x_test.astype('float32') / 255.\n",
        "# flatten the 28x28 images into a 1d vector (784,1)\n",
        "x_train = x_train.reshape((len(x_train), np.prod(x_train.shape[1:])))\n",
        "x_test = x_test.reshape((len(x_test), np.prod(x_test.shape[1:])))\n",
        "print(x_train.shape)\n",
        "print(x_test.shape)"
      ],
      "execution_count": 9,
      "outputs": [
        {
          "output_type": "stream",
          "text": [
            "(60000, 784)\n",
            "(10000, 784)\n"
          ],
          "name": "stdout"
        }
      ]
    },
    {
      "metadata": {
        "id": "JpG5rPy5coIr",
        "colab_type": "code",
        "colab": {}
      },
      "cell_type": "code",
      "source": [
        "# get dimensions for the AE's input layer\n",
        "input_dim = x_train.shape[1]\n",
        "\n",
        "# TODO: define size of encoded representations for the 2 stacks\n",
        "encoding_dim1 = 128\n",
        "encoding_dim2 = 32"
      ],
      "execution_count": 0,
      "outputs": []
    },
    {
      "metadata": {
        "id": "4vyoEIuQdEJY",
        "colab_type": "code",
        "outputId": "d497b9eb-13cb-4415-ad85-fe276fedebd8",
        "colab": {
          "base_uri": "https://localhost:8080/",
          "height": 35
        }
      },
      "cell_type": "code",
      "source": [
        "# TODO: compute compression factor, i.e. dimensionality reduction\n",
        "compression_factor = input_dim / encoding_dim1\n",
        "print('Compression factor: %.1f' % compression_factor)"
      ],
      "execution_count": 11,
      "outputs": [
        {
          "output_type": "stream",
          "text": [
            "Compression factor: 6.1\n"
          ],
          "name": "stdout"
        }
      ]
    },
    {
      "metadata": {
        "id": "SYFKEaUwdNig",
        "colab_type": "code",
        "colab": {}
      },
      "cell_type": "code",
      "source": [
        "# TODO: define autoencoder stack 1\n",
        "autoencoder1= Sequential()\n",
        "autoencoder1.add(Dense(encoding_dim1, input_dim=input_dim, activation=\"sigmoid\"))\n",
        "autoencoder1.add(Dense(input_dim, input_dim=encoding_dim1, activation=\"sigmoid\"))"
      ],
      "execution_count": 0,
      "outputs": []
    },
    {
      "metadata": {
        "id": "C7_PHHPqjwA3",
        "colab_type": "code",
        "colab": {}
      },
      "cell_type": "code",
      "source": [
        "# TODO: define autoencoder stack 2\n",
        "autoencoder2= Sequential()\n",
        "autoencoder2.add(Dense(encoding_dim2, input_dim=encoding_dim1, activation=\"sigmoid\"))\n",
        "autoencoder2.add(Dense(encoding_dim1, input_dim=encoding_dim2, activation=\"sigmoid\"))"
      ],
      "execution_count": 0,
      "outputs": []
    },
    {
      "metadata": {
        "id": "7Auw5HKnkB8v",
        "colab_type": "code",
        "outputId": "5f65f583-c08e-4bcf-e825-3555357dbbd9",
        "colab": {
          "base_uri": "https://localhost:8080/",
          "height": 446
        }
      },
      "cell_type": "code",
      "source": [
        "# print the architectures of the two stacks of the autoencoder\n",
        "print(autoencoder1.summary())\n",
        "print(autoencoder2.summary())"
      ],
      "execution_count": 14,
      "outputs": [
        {
          "output_type": "stream",
          "text": [
            "_________________________________________________________________\n",
            "Layer (type)                 Output Shape              Param #   \n",
            "=================================================================\n",
            "dense_1 (Dense)              (None, 128)               100480    \n",
            "_________________________________________________________________\n",
            "dense_2 (Dense)              (None, 784)               101136    \n",
            "=================================================================\n",
            "Total params: 201,616\n",
            "Trainable params: 201,616\n",
            "Non-trainable params: 0\n",
            "_________________________________________________________________\n",
            "None\n",
            "_________________________________________________________________\n",
            "Layer (type)                 Output Shape              Param #   \n",
            "=================================================================\n",
            "dense_3 (Dense)              (None, 32)                4128      \n",
            "_________________________________________________________________\n",
            "dense_4 (Dense)              (None, 128)               4224      \n",
            "=================================================================\n",
            "Total params: 8,352\n",
            "Trainable params: 8,352\n",
            "Non-trainable params: 0\n",
            "_________________________________________________________________\n",
            "None\n"
          ],
          "name": "stdout"
        }
      ]
    },
    {
      "metadata": {
        "id": "gjREXt3TnBAO",
        "colab_type": "code",
        "outputId": "2d9515e6-0719-4593-fac1-977ea464180a",
        "colab": {
          "base_uri": "https://localhost:8080/",
          "height": 962
        }
      },
      "cell_type": "code",
      "source": [
        "if DoTraining == 1:\n",
        "\n",
        "    #+++++++++++++++ STACK 1\n",
        "    # initialize 1st logging callback\n",
        "    live_hist1 = LogCallback()\n",
        "    # binary_crossentropy usually is the better loss metric, but is about a factor two per epoche slower\n",
        "    autoencoder1.compile(optimizer='adam', loss='binary_crossentropy')\n",
        "    autoencoder1.fit(x_train, x_train, epochs=max_epoches, batch_size=batch_size, shuffle=True, validation_split=0.3,\n",
        "                     verbose=0, callbacks=[live_hist1])\n",
        "\n",
        "    # extract the encoder section of the first autoencoder stack to visualize the encoded representation. Also needed\n",
        "    # to provide the encoded input for the second autoencoder stack.\n",
        "    encoder_stack1 = autoencoder1.layers[0]\n",
        "    encoder1 = Sequential()\n",
        "    encoder1.add(encoder_stack1)\n",
        "    print(encoder1.summary())\n",
        "\n",
        "    # encode training images with first autoencoder stack. They'll serve as input for the autoencoder stack 2\n",
        "    encoded1_imgs = encoder1.predict(x_train)\n",
        "\n",
        "    # here you could use the plot_encoded_img function to check if the autoencoder works properly and training was\n",
        "    # successful\n",
        "\n",
        "    # +++++++++++++++ STACK 2\n",
        "    # initialize 2nd logging callback\n",
        "    live_hist2 = LogCallback()\n",
        "    # binary_crossentropy usually is the better loss metric, but is about a factor two per epoche slower\n",
        "    autoencoder2.compile(optimizer='adam', loss='binary_crossentropy')\n",
        "    autoencoder2.fit(encoded1_imgs, encoded1_imgs, epochs=max_epoches, batch_size=batch_size, shuffle=True, validation_split=0.3,\n",
        "                     verbose=0, callbacks=[live_hist1])\n",
        "\n",
        "    # extract just the second encoder to visualize the latent space (its just needed to get weights and bias\n",
        "    # before stacking together the entire autoencoder. Also might be useful for testing and visualisation of\n",
        "    # the latent space\n",
        "    encoder_stack2 = autoencoder2.layers[0]\n",
        "    encoder2 = Sequential()\n",
        "    encoder2.add(encoder_stack2)\n",
        "    print(encoder2.summary())\n",
        "    # to check the encoded image in latent space, encode the images encoded by autoencoder stack 1, with autoencoder\n",
        "    # stack 2 and display them using plot_encoded_img\n",
        "    encoded2_imgs = encoder2.predict(encoded1_imgs)\n",
        "\n",
        "\n",
        "    # TODO: put together the entire stacked autoencoder\n",
        "    # TODO: first get weights and bias for the encoder and decoder layers of both stacks (get_weights() returns weights\n",
        "    # TODO: and bias in a list)\n",
        "    enc1_weights= encoder_stack1.get_weights()\n",
        "    enc2_weights= encoder_stack2.get_weights()\n",
        "\n",
        "    # TODO: extract the decoder layer and get weights and bias (for both stacks)\n",
        "    decoder_stack1= autoencoder1.layers[1]\n",
        "    dec1_weights = decoder_stack1.get_weights()\n",
        "    decoder_stack2 = autoencoder2.layers[1]\n",
        "    dec2_weights = decoder_stack2.get_weights()\n",
        "\n",
        "\n",
        "    # build the full stacked autoencoder's architecture (input layer is derived implicitly from input_dim)\n",
        "    # build the stacked autoencoder (input layer is derived implicitly from input_dim)\n",
        "    stacked_autoencoder = Sequential()\n",
        "    stacked_autoencoder.add(Dense(encoding_dim1, input_shape=(input_dim,), activation='sigmoid', name='EncodingStack1'))\n",
        "    stacked_autoencoder.add(Dense(encoding_dim2, activation='sigmoid', name='EncodingStack2'))\n",
        "    stacked_autoencoder.add(Dense(encoding_dim1, activation='sigmoid', name='DecodingStack2'))\n",
        "    stacked_autoencoder.add(Dense(input_dim, activation='sigmoid', name='DecodingStack1'))\n",
        "\n",
        "    stacked_autoencoder.compile(optimizer='adam', loss='mse')\n",
        "\n",
        "    # TODO: set weights accordingly\n",
        "    stacked_autoencoder.layers[0].set_weights(enc1_weights)\n",
        "    stacked_autoencoder.layers[1].set_weights(enc2_weights)\n",
        "    stacked_autoencoder.layers[2].set_weights(dec2_weights)\n",
        "    stacked_autoencoder.layers[3].set_weights(dec1_weights)\n",
        "\n",
        "    print(stacked_autoencoder.summary())\n",
        "\n",
        "    # now you could use stacked_autoencoder.predict(x_test) and the plot_encoded_img function to check if the stacked\n",
        "    # autoencoder trained successfully and all weights have been set correctly (this is later in the code done anyway,\n",
        "    # but with the model loaded from the\n",
        "    # saved .h5-files\n",
        "\n",
        "\n",
        "    # TODO: build just the encoder section which serves e.g. as a feature extractor or dimensionality reducer\n",
        "    stacked_encoder = Sequential()\n",
        "    stacked_encoder.add(encoder_stack1) # encoder stack 1\n",
        "    stacked_encoder.add(encoder_stack2) # encoder stack 2\n",
        "    stacked_encoder.compile(optimizer='adam', loss='mse')\n",
        "\n",
        "    # TODO: set the weights of each encoder stack\n",
        "    stacked_encoder.layers[0].set_weights(enc1_weights)\n",
        "    stacked_encoder.layers[1].set_weights(enc2_weights)\n",
        "    print(stacked_encoder.summary())\n",
        "\n",
        "    # save the entire model graph with weights\n",
        "    stacked_autoencoder.save('stacked_autoencoder.h5')\n",
        "    stacked_encoder.save('stacked_encoder.h5')"
      ],
      "execution_count": 15,
      "outputs": [
        {
          "output_type": "display_data",
          "data": {
            "image/png": "[encoded data removed]",
            "text/plain": [
              "<Figure size 432x288 with 2 Axes>"
            ]
          },
          "metadata": {
            "tags": []
          }
        },
        {
          "output_type": "stream",
          "text": [
            "Total training time: 29.77 sec.\n",
            "_________________________________________________________________\n",
            "Layer (type)                 Output Shape              Param #   \n",
            "=================================================================\n",
            "dense_3 (Dense)              (None, 32)                4128      \n",
            "=================================================================\n",
            "Total params: 4,128\n",
            "Trainable params: 4,128\n",
            "Non-trainable params: 0\n",
            "_________________________________________________________________\n",
            "None\n",
            "_________________________________________________________________\n",
            "Layer (type)                 Output Shape              Param #   \n",
            "=================================================================\n",
            "EncodingStack1 (Dense)       (None, 128)               100480    \n",
            "_________________________________________________________________\n",
            "EncodingStack2 (Dense)       (None, 32)                4128      \n",
            "_________________________________________________________________\n",
            "DecodingStack2 (Dense)       (None, 128)               4224      \n",
            "_________________________________________________________________\n",
            "DecodingStack1 (Dense)       (None, 784)               101136    \n",
            "=================================================================\n",
            "Total params: 209,968\n",
            "Trainable params: 209,968\n",
            "Non-trainable params: 0\n",
            "_________________________________________________________________\n",
            "None\n",
            "_________________________________________________________________\n",
            "Layer (type)                 Output Shape              Param #   \n",
            "=================================================================\n",
            "dense_1 (Dense)              (None, 128)               100480    \n",
            "_________________________________________________________________\n",
            "dense_3 (Dense)              (None, 32)                4128      \n",
            "=================================================================\n",
            "Total params: 104,608\n",
            "Trainable params: 104,608\n",
            "Non-trainable params: 0\n",
            "_________________________________________________________________\n",
            "None\n"
          ],
          "name": "stdout"
        }
      ]
    },
    {
      "metadata": {
        "id": "eCQedhy686UB",
        "colab_type": "code",
        "colab": {}
      },
      "cell_type": "code",
      "source": [
        "#load the entire model (no compilation necessary)\n",
        "stacked_autoencoder= load_model('stacked_autoencoder.h5')\n",
        "stacked_encoder= load_model('stacked_encoder.h5')"
      ],
      "execution_count": 0,
      "outputs": []
    },
    {
      "metadata": {
        "id": "Y2snRCLt9d8S",
        "colab_type": "code",
        "outputId": "511e9705-b412-4b0b-dbe8-d7878f42aeb7",
        "colab": {
          "base_uri": "https://localhost:8080/",
          "height": 35
        }
      },
      "cell_type": "code",
      "source": [
        "# encode the original image using just the encoder sectioni\n",
        "encoded_imgs = stacked_encoder.predict(x_test)\n",
        "# encode/decode the original image using a full autoencoder stack\n",
        "decoded_imgs = stacked_autoencoder.predict(x_test)\n",
        "encoded_imgs.shape"
      ],
      "execution_count": 17,
      "outputs": [
        {
          "output_type": "execute_result",
          "data": {
            "text/plain": [
              "(10000, 32)"
            ]
          },
          "metadata": {
            "tags": []
          },
          "execution_count": 17
        }
      ]
    },
    {
      "metadata": {
        "id": "RQ31p2OZ9_dY",
        "colab_type": "code",
        "outputId": "78f95a6b-fbf3-4611-c843-eae83956e804",
        "colab": {
          "base_uri": "https://localhost:8080/",
          "height": 35
        }
      },
      "cell_type": "code",
      "source": [
        "# compute the average MSE over all test images (original/decoded)\n",
        "\n",
        "mse = np.empty(len(decoded_imgs))\n",
        "\n",
        "for i in range(0,len(decoded_imgs)):\n",
        "    mse[i] = compare_mse(decoded_imgs[i], x_test[i])\n",
        "    \n",
        "avg_mse = sum(mse)/len(mse)\n",
        "print('Average MSE for all original/decoded images: %.4f' % avg_mse)"
      ],
      "execution_count": 18,
      "outputs": [
        {
          "output_type": "stream",
          "text": [
            "Average MSE for all original/decoded images: 0.0172\n"
          ],
          "name": "stdout"
        }
      ]
    },
    {
      "metadata": {
        "id": "XmbqSR-Z9hj-",
        "colab_type": "code",
        "outputId": "4b7b83ad-503d-47f9-ce4f-9e9e3a1932a3",
        "colab": {
          "base_uri": "https://localhost:8080/",
          "height": 481
        }
      },
      "cell_type": "code",
      "source": [
        "# plots a random selection of images: original vs. encoded vs. decoded\n",
        "# a random index is generated in order to select original/encoded/decoded images from\n",
        "# the test set\n",
        "num_images = 20\n",
        "np.random.seed(42)\n",
        "random_img_idx = np.random.randint(x_test.shape[0], size=num_images)\n",
        "plot_encoded_img(x_test, encoded_imgs, random_img_idx, aspect_ratio=0.1, decoded_img= decoded_imgs, title='Simple Autoencoder - Original vs. Encoded vs. Decoded')\n",
        "plt.show()"
      ],
      "execution_count": 19,
      "outputs": [
        {
          "output_type": "display_data",
          "data": {
            "image/png": "[encoded data removed]",
            "text/plain": [
              "<Figure size 1296x576 with 60 Axes>"
            ]
          },
          "metadata": {
            "tags": []
          }
        }
      ]
    }
  ]
}