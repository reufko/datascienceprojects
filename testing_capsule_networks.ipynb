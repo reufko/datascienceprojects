{
  "nbformat": 4,
  "nbformat_minor": 0,
  "metadata": {
    "colab": {
      "name": "testing_capsule_networks.ipynb",
      "version": "0.3.2",
      "provenance": [],
      "collapsed_sections": []
    },
    "kernelspec": {
      "name": "python3",
      "display_name": "Python 3"
    },
    "accelerator": "GPU"
  },
  "cells": [
    {
      "metadata": {
        "id": "EokQTVy_YJHt",
        "colab_type": "text"
      },
      "cell_type": "markdown",
      "source": [
        "# Capsule Networks\n",
        "\n",
        "Transferred the Keras implementation of CapsNets (by Xifeng Guo) to Google Colab\n",
        "\n",
        "### Original code can be found here: https://github.com/XifengGuo/CapsNet-Keras\n"
      ]
    },
    {
      "metadata": {
        "id": "Kv5PE3oHdD7r",
        "colab_type": "code",
        "colab": {}
      },
      "cell_type": "code",
      "source": [
        "import numpy as np\n",
        "from matplotlib import pyplot as plt\n",
        "import csv\n",
        "import math\n",
        "import pandas\n",
        "import keras.backend as K\n",
        "import tensorflow as tf\n",
        "from keras import initializers, layers, models, optimizers\n",
        "from keras.utils import to_categorical\n",
        "\n",
        "from PIL import Image"
      ],
      "execution_count": 0,
      "outputs": []
    },
    {
      "metadata": {
        "id": "guO0enWFd3zh",
        "colab_type": "code",
        "colab": {}
      },
      "cell_type": "code",
      "source": [
        "def plot_log(filename, show=True):\n",
        "\n",
        "    data = pandas.read_csv(filename)\n",
        "\n",
        "    fig = plt.figure(figsize=(4,6))\n",
        "    fig.subplots_adjust(top=0.95, bottom=0.05, right=0.95)\n",
        "    fig.add_subplot(211)\n",
        "    for key in data.keys():\n",
        "        if key.find('loss') >= 0 and not key.find('val') >= 0:  # training loss\n",
        "            plt.plot(data['epoch'].values, data[key].values, label=key)\n",
        "    plt.legend()\n",
        "    plt.title('Training loss')\n",
        "\n",
        "    fig.add_subplot(212)\n",
        "    for key in data.keys():\n",
        "        if key.find('acc') >= 0:  # acc\n",
        "            plt.plot(data['epoch'].values, data[key].values, label=key)\n",
        "    plt.legend()\n",
        "    plt.title('Training and validation accuracy')\n",
        "\n",
        "    # fig.savefig('result/log.png')\n",
        "    if show:\n",
        "        plt.show()"
      ],
      "execution_count": 0,
      "outputs": []
    },
    {
      "metadata": {
        "id": "TTAKBWttd6vJ",
        "colab_type": "code",
        "colab": {}
      },
      "cell_type": "code",
      "source": [
        "def combine_images(generated_images, height=None, width=None):\n",
        "    num = generated_images.shape[0]\n",
        "    if width is None and height is None:\n",
        "        width = int(math.sqrt(num))\n",
        "        height = int(math.ceil(float(num)/width))\n",
        "    elif width is not None and height is None:  # height not given\n",
        "        height = int(math.ceil(float(num)/width))\n",
        "    elif height is not None and width is None:  # width not given\n",
        "        width = int(math.ceil(float(num)/height))\n",
        "\n",
        "    shape = generated_images.shape[1:3]\n",
        "    image = np.zeros((height*shape[0], width*shape[1]),\n",
        "                     dtype=generated_images.dtype)\n",
        "    for index, img in enumerate(generated_images):\n",
        "        i = int(index/width)\n",
        "        j = index % width\n",
        "        image[i*shape[0]:(i+1)*shape[0], j*shape[1]:(j+1)*shape[1]] = \\\n",
        "            img[:, :, 0]\n",
        "    return image"
      ],
      "execution_count": 0,
      "outputs": []
    },
    {
      "metadata": {
        "id": "-6xH7Nmud9RA",
        "colab_type": "code",
        "colab": {}
      },
      "cell_type": "code",
      "source": [
        "class Length(layers.Layer):\n",
        "    \"\"\"\n",
        "    Compute the length of vectors. This is used to compute a Tensor that has the same shape with y_true in margin_loss.\n",
        "    Using this layer as model's output can directly predict labels by using `y_pred = np.argmax(model.predict(x), 1)`\n",
        "    inputs: shape=[None, num_vectors, dim_vector]\n",
        "    output: shape=[None, num_vectors]\n",
        "    \"\"\"\n",
        "    def call(self, inputs, **kwargs):\n",
        "        return K.sqrt(K.sum(K.square(inputs), -1) + K.epsilon())\n",
        "\n",
        "    def compute_output_shape(self, input_shape):\n",
        "        return input_shape[:-1]\n",
        "\n",
        "    def get_config(self):\n",
        "        config = super(Length, self).get_config()\n",
        "        return config"
      ],
      "execution_count": 0,
      "outputs": []
    },
    {
      "metadata": {
        "id": "RCk9gNSGeJPe",
        "colab_type": "code",
        "colab": {}
      },
      "cell_type": "code",
      "source": [
        "class Mask(layers.Layer):\n",
        "    \"\"\"\n",
        "    Mask a Tensor with shape=[None, num_capsule, dim_vector] either by the capsule with max length or by an additional \n",
        "    input mask. Except the max-length capsule (or specified capsule), all vectors are masked to zeros. Then flatten the\n",
        "    masked Tensor.\n",
        "    For example:\n",
        "        ```\n",
        "        x = keras.layers.Input(shape=[8, 3, 2])  # batch_size=8, each sample contains 3 capsules with dim_vector=2\n",
        "        y = keras.layers.Input(shape=[8, 3])  # True labels. 8 samples, 3 classes, one-hot coding.\n",
        "        out = Mask()(x)  # out.shape=[8, 6]\n",
        "        # or\n",
        "        out2 = Mask()([x, y])  # out2.shape=[8,6]. Masked with true labels y. Of course y can also be manipulated.\n",
        "        ```\n",
        "    \"\"\"\n",
        "    def call(self, inputs, **kwargs):\n",
        "        if type(inputs) is list:  # true label is provided with shape = [None, n_classes], i.e. one-hot code.\n",
        "            assert len(inputs) == 2\n",
        "            inputs, mask = inputs\n",
        "        else:  # if no true label, mask by the max length of capsules. Mainly used for prediction\n",
        "            # compute lengths of capsules\n",
        "            x = K.sqrt(K.sum(K.square(inputs), -1))\n",
        "            # generate the mask which is a one-hot code.\n",
        "            # mask.shape=[None, n_classes]=[None, num_capsule]\n",
        "            mask = K.one_hot(indices=K.argmax(x, 1), num_classes=x.get_shape().as_list()[1])\n",
        "\n",
        "        # inputs.shape=[None, num_capsule, dim_capsule]\n",
        "        # mask.shape=[None, num_capsule]\n",
        "        # masked.shape=[None, num_capsule * dim_capsule]\n",
        "        masked = K.batch_flatten(inputs * K.expand_dims(mask, -1))\n",
        "        return masked\n",
        "\n",
        "    def compute_output_shape(self, input_shape):\n",
        "        if type(input_shape[0]) is tuple:  # true label provided\n",
        "            return tuple([None, input_shape[0][1] * input_shape[0][2]])\n",
        "        else:  # no true label provided\n",
        "            return tuple([None, input_shape[1] * input_shape[2]])\n",
        "\n",
        "    def get_config(self):\n",
        "        config = super(Mask, self).get_config()\n",
        "        return config"
      ],
      "execution_count": 0,
      "outputs": []
    },
    {
      "metadata": {
        "id": "zjQX-I_seLx3",
        "colab_type": "code",
        "colab": {}
      },
      "cell_type": "code",
      "source": [
        "def squash(vectors, axis=-1):\n",
        "    \"\"\"\n",
        "    The non-linear activation used in Capsule. It drives the length of a large vector to near 1 and small vector to 0\n",
        "    :param vectors: some vectors to be squashed, N-dim tensor\n",
        "    :param axis: the axis to squash\n",
        "    :return: a Tensor with same shape as input vectors\n",
        "    \"\"\"\n",
        "    s_squared_norm = K.sum(K.square(vectors), axis, keepdims=True)\n",
        "    scale = s_squared_norm / (1 + s_squared_norm) / K.sqrt(s_squared_norm + K.epsilon())\n",
        "    return scale * vectors"
      ],
      "execution_count": 0,
      "outputs": []
    },
    {
      "metadata": {
        "id": "zjjb7o2ceOEn",
        "colab_type": "code",
        "colab": {}
      },
      "cell_type": "code",
      "source": [
        "class CapsuleLayer(layers.Layer):\n",
        "    \"\"\"\n",
        "    The capsule layer. It is similar to Dense layer. Dense layer has `in_num` inputs, each is a scalar, the output of the \n",
        "    neuron from the former layer, and it has `out_num` output neurons. CapsuleLayer just expand the output of the neuron\n",
        "    from scalar to vector. So its input shape = [None, input_num_capsule, input_dim_capsule] and output shape = \\\n",
        "    [None, num_capsule, dim_capsule]. For Dense Layer, input_dim_capsule = dim_capsule = 1.\n",
        "    \n",
        "    :param num_capsule: number of capsules in this layer\n",
        "    :param dim_capsule: dimension of the output vectors of the capsules in this layer\n",
        "    :param routings: number of iterations for the routing algorithm\n",
        "    \"\"\"\n",
        "    def __init__(self, num_capsule, dim_capsule, routings=3,\n",
        "                 kernel_initializer='glorot_uniform',\n",
        "                 **kwargs):\n",
        "        super(CapsuleLayer, self).__init__(**kwargs)\n",
        "        self.num_capsule = num_capsule\n",
        "        self.dim_capsule = dim_capsule\n",
        "        self.routings = routings\n",
        "        self.kernel_initializer = initializers.get(kernel_initializer)\n",
        "\n",
        "    def build(self, input_shape):\n",
        "        assert len(input_shape) >= 3, \"The input Tensor should have shape=[None, input_num_capsule, input_dim_capsule]\"\n",
        "        self.input_num_capsule = input_shape[1]\n",
        "        self.input_dim_capsule = input_shape[2]\n",
        "\n",
        "        # Transform matrix\n",
        "        self.W = self.add_weight(shape=[self.num_capsule, self.input_num_capsule,\n",
        "                                        self.dim_capsule, self.input_dim_capsule],\n",
        "                                 initializer=self.kernel_initializer,\n",
        "                                 name='W')\n",
        "\n",
        "        self.built = True\n",
        "\n",
        "    def call(self, inputs, training=None):\n",
        "        # inputs.shape=[None, input_num_capsule, input_dim_capsule]\n",
        "        # inputs_expand.shape=[None, 1, input_num_capsule, input_dim_capsule]\n",
        "        inputs_expand = K.expand_dims(inputs, 1)\n",
        "\n",
        "        # Replicate num_capsule dimension to prepare being multiplied by W\n",
        "        # inputs_tiled.shape=[None, num_capsule, input_num_capsule, input_dim_capsule]\n",
        "        inputs_tiled = K.tile(inputs_expand, [1, self.num_capsule, 1, 1])\n",
        "\n",
        "        # Compute `inputs * W` by scanning inputs_tiled on dimension 0.\n",
        "        # x.shape=[num_capsule, input_num_capsule, input_dim_capsule]\n",
        "        # W.shape=[num_capsule, input_num_capsule, dim_capsule, input_dim_capsule]\n",
        "        # Regard the first two dimensions as `batch` dimension,\n",
        "        # then matmul: [input_dim_capsule] x [dim_capsule, input_dim_capsule]^T -> [dim_capsule].\n",
        "        # inputs_hat.shape = [None, num_capsule, input_num_capsule, dim_capsule]\n",
        "        inputs_hat = K.map_fn(lambda x: K.batch_dot(x, self.W, [2, 3]), elems=inputs_tiled)\n",
        "\n",
        "        # Begin: Routing algorithm ---------------------------------------------------------------------#\n",
        "        # The prior for coupling coefficient, initialized as zeros.\n",
        "        # b.shape = [None, self.num_capsule, self.input_num_capsule].\n",
        "        b = tf.zeros(shape=[K.shape(inputs_hat)[0], self.num_capsule, self.input_num_capsule])\n",
        "\n",
        "        assert self.routings > 0, 'The routings should be > 0.'\n",
        "        for i in range(self.routings):\n",
        "            # c.shape=[batch_size, num_capsule, input_num_capsule]\n",
        "            c = tf.nn.softmax(b, dim=1)\n",
        "\n",
        "            # c.shape =  [batch_size, num_capsule, input_num_capsule]\n",
        "            # inputs_hat.shape=[None, num_capsule, input_num_capsule, dim_capsule]\n",
        "            # The first two dimensions as `batch` dimension,\n",
        "            # then matmal: [input_num_capsule] x [input_num_capsule, dim_capsule] -> [dim_capsule].\n",
        "            # outputs.shape=[None, num_capsule, dim_capsule]\n",
        "            outputs = squash(K.batch_dot(c, inputs_hat, [2, 2]))  # [None, 10, 16]\n",
        "\n",
        "            if i < self.routings - 1:\n",
        "                # outputs.shape =  [None, num_capsule, dim_capsule]\n",
        "                # inputs_hat.shape=[None, num_capsule, input_num_capsule, dim_capsule]\n",
        "                # The first two dimensions as `batch` dimension,\n",
        "                # then matmal: [dim_capsule] x [input_num_capsule, dim_capsule]^T -> [input_num_capsule].\n",
        "                # b.shape=[batch_size, num_capsule, input_num_capsule]\n",
        "                b += K.batch_dot(outputs, inputs_hat, [2, 3])\n",
        "        # End: Routing algorithm -----------------------------------------------------------------------#\n",
        "\n",
        "        return outputs\n",
        "\n",
        "    def compute_output_shape(self, input_shape):\n",
        "        return tuple([None, self.num_capsule, self.dim_capsule])\n",
        "\n",
        "    def get_config(self):\n",
        "        config = {\n",
        "            'num_capsule': self.num_capsule,\n",
        "            'dim_capsule': self.dim_capsule,\n",
        "            'routings': self.routings\n",
        "        }\n",
        "        base_config = super(CapsuleLayer, self).get_config()\n",
        "        return dict(list(base_config.items()) + list(config.items()))"
      ],
      "execution_count": 0,
      "outputs": []
    },
    {
      "metadata": {
        "id": "b2Q5rO90eRLX",
        "colab_type": "code",
        "colab": {}
      },
      "cell_type": "code",
      "source": [
        "def PrimaryCap(inputs, dim_capsule, n_channels, kernel_size, strides, padding):\n",
        "    \"\"\"\n",
        "    Apply Conv2D `n_channels` times and concatenate all capsules\n",
        "    :param inputs: 4D tensor, shape=[None, width, height, channels]\n",
        "    :param dim_capsule: the dim of the output vector of capsule\n",
        "    :param n_channels: the number of types of capsules\n",
        "    :return: output tensor, shape=[None, num_capsule, dim_capsule]\n",
        "    \"\"\"\n",
        "    output = layers.Conv2D(filters=dim_capsule*n_channels, kernel_size=kernel_size, strides=strides, padding=padding,\n",
        "                           name='primarycap_conv2d')(inputs)\n",
        "    outputs = layers.Reshape(target_shape=[-1, dim_capsule], name='primarycap_reshape')(output)\n",
        "    return layers.Lambda(squash, name='primarycap_squash')(outputs)"
      ],
      "execution_count": 0,
      "outputs": []
    },
    {
      "metadata": {
        "id": "SJtc0OYXeUOl",
        "colab_type": "code",
        "colab": {}
      },
      "cell_type": "code",
      "source": [
        "K.set_image_data_format('channels_last')"
      ],
      "execution_count": 0,
      "outputs": []
    },
    {
      "metadata": {
        "id": "gtqyTA2seqbU",
        "colab_type": "code",
        "colab": {}
      },
      "cell_type": "code",
      "source": [
        "def CapsNet(input_shape, n_class, routings):\n",
        "    \"\"\"\n",
        "    A Capsule Network on MNIST.\n",
        "    :param input_shape: data shape, 3d, [width, height, channels]\n",
        "    :param n_class: number of classes\n",
        "    :param routings: number of routing iterations\n",
        "    :return: Two Keras Models, the first one used for training, and the second one for evaluation.\n",
        "            `eval_model` can also be used for training.\n",
        "    \"\"\"\n",
        "    x = layers.Input(shape=input_shape)\n",
        "\n",
        "    # Layer 1: Just a conventional Conv2D layer\n",
        "    conv1 = layers.Conv2D(filters=256, kernel_size=9, strides=1, padding='valid', activation='relu', name='conv1')(x)\n",
        "\n",
        "    # Layer 2: Conv2D layer with `squash` activation, then reshape to [None, num_capsule, dim_capsule]\n",
        "    primarycaps = PrimaryCap(conv1, dim_capsule=8, n_channels=32, kernel_size=9, strides=2, padding='valid')\n",
        "\n",
        "    # Layer 3: Capsule layer. Routing algorithm works here.\n",
        "    digitcaps = CapsuleLayer(num_capsule=n_class, dim_capsule=16, routings=routings,\n",
        "                             name='digitcaps')(primarycaps)\n",
        "\n",
        "    # Layer 4: This is an auxiliary layer to replace each capsule with its length. Just to match the true label's shape.\n",
        "    # If using tensorflow, this will not be necessary. :)\n",
        "    out_caps = Length(name='capsnet')(digitcaps)\n",
        "\n",
        "    # Decoder network.\n",
        "    y = layers.Input(shape=(n_class,))\n",
        "    masked_by_y = Mask()([digitcaps, y])  # The true label is used to mask the output of capsule layer. For training\n",
        "    masked = Mask()(digitcaps)  # Mask using the capsule with maximal length. For prediction\n",
        "\n",
        "    # Shared Decoder model in training and prediction\n",
        "    decoder = models.Sequential(name='decoder')\n",
        "    decoder.add(layers.Dense(512, activation='relu', input_dim=16*n_class))\n",
        "    decoder.add(layers.Dense(1024, activation='relu'))\n",
        "    decoder.add(layers.Dense(np.prod(input_shape), activation='sigmoid'))\n",
        "    decoder.add(layers.Reshape(target_shape=input_shape, name='out_recon'))\n",
        "\n",
        "    # Models for training and evaluation (prediction)\n",
        "    train_model = models.Model([x, y], [out_caps, decoder(masked_by_y)])\n",
        "    eval_model = models.Model(x, [out_caps, decoder(masked)])\n",
        "\n",
        "    # manipulate model\n",
        "    noise = layers.Input(shape=(n_class, 16))\n",
        "    noised_digitcaps = layers.Add()([digitcaps, noise])\n",
        "    masked_noised_y = Mask()([noised_digitcaps, y])\n",
        "    manipulate_model = models.Model([x, y, noise], decoder(masked_noised_y))\n",
        "    return train_model, eval_model, manipulate_model"
      ],
      "execution_count": 0,
      "outputs": []
    },
    {
      "metadata": {
        "id": "6434uEBdesJh",
        "colab_type": "code",
        "colab": {}
      },
      "cell_type": "code",
      "source": [
        "def margin_loss(y_true, y_pred):\n",
        "    \"\"\"\n",
        "    Margin loss for Eq.(4). When y_true[i, :] contains not just one `1`, this loss should work too. Not test it.\n",
        "    :param y_true: [None, n_classes]\n",
        "    :param y_pred: [None, num_capsule]\n",
        "    :return: a scalar loss value.\n",
        "    \"\"\"\n",
        "    L = y_true * K.square(K.maximum(0., 0.9 - y_pred)) + \\\n",
        "        0.5 * (1 - y_true) * K.square(K.maximum(0., y_pred - 0.1))\n",
        "\n",
        "    return K.mean(K.sum(L, 1))"
      ],
      "execution_count": 0,
      "outputs": []
    },
    {
      "metadata": {
        "id": "8WRCXyRveuxL",
        "colab_type": "code",
        "colab": {}
      },
      "cell_type": "code",
      "source": [
        "def train(model, data, args):\n",
        "    \"\"\"\n",
        "    Training a CapsuleNet\n",
        "    :param model: the CapsuleNet model\n",
        "    :param data: a tuple containing training and testing data, like `((x_train, y_train), (x_test, y_test))`\n",
        "    :param args: arguments\n",
        "    :return: The trained model\n",
        "    \"\"\"\n",
        "    # unpacking the data\n",
        "    (x_train, y_train), (x_test, y_test) = data\n",
        "\n",
        "    # callbacks\n",
        "    log = callbacks.CSVLogger(args.save_dir + '/log.csv')\n",
        "    tb = callbacks.TensorBoard(log_dir=args.save_dir + '/tensorboard-logs',\n",
        "                               batch_size=args.batch_size, histogram_freq=int(args.debug))\n",
        "    checkpoint = callbacks.ModelCheckpoint(args.save_dir + '/weights-{epoch:02d}.h5', monitor='val_capsnet_acc',\n",
        "                                           save_best_only=True, save_weights_only=True, verbose=1)\n",
        "    lr_decay = callbacks.LearningRateScheduler(schedule=lambda epoch: args.lr * (args.lr_decay ** epoch))\n",
        "\n",
        "    # compile the model\n",
        "    model.compile(optimizer=optimizers.Adam(lr=args.lr),\n",
        "                  loss=[margin_loss, 'mse'],\n",
        "                  loss_weights=[1., args.lam_recon],\n",
        "                  metrics={'capsnet': 'accuracy'})\n",
        "\n",
        "    \"\"\"\n",
        "    # Training without data augmentation:\n",
        "    model.fit([x_train, y_train], [y_train, x_train], batch_size=args.batch_size, epochs=args.epochs,\n",
        "              validation_data=[[x_test, y_test], [y_test, x_test]], callbacks=[log, tb, checkpoint, lr_decay])\n",
        "    \"\"\"\n",
        "\n",
        "    # Begin: Training with data augmentation ---------------------------------------------------------------------#\n",
        "    def train_generator(x, y, batch_size, shift_fraction=0.):\n",
        "        train_datagen = ImageDataGenerator(width_shift_range=shift_fraction,\n",
        "                                           height_shift_range=shift_fraction)  # shift up to 2 pixel for MNIST\n",
        "        generator = train_datagen.flow(x, y, batch_size=batch_size)\n",
        "        while 1:\n",
        "            x_batch, y_batch = generator.next()\n",
        "            yield ([x_batch, y_batch], [y_batch, x_batch])\n",
        "\n",
        "    # Training with data augmentation. If shift_fraction=0., also no augmentation.\n",
        "    model.fit_generator(generator=train_generator(x_train, y_train, args.batch_size, args.shift_fraction),\n",
        "                        steps_per_epoch=int(y_train.shape[0] / args.batch_size),\n",
        "                        epochs=args.epochs,\n",
        "                        validation_data=[[x_test, y_test], [y_test, x_test]],\n",
        "                        callbacks=[log, tb, checkpoint, lr_decay])\n",
        "    # End: Training with data augmentation -----------------------------------------------------------------------#\n",
        "\n",
        "    model.save_weights(args.save_dir + '/trained_model.h5')\n",
        "    print('Trained model saved to \\'%s/trained_model.h5\\'' % args.save_dir)\n",
        "\n",
        "    plot_log(args.save_dir + '/log.csv', show=True)\n",
        "\n",
        "    return model"
      ],
      "execution_count": 0,
      "outputs": []
    },
    {
      "metadata": {
        "id": "Cj83dPDCe2PD",
        "colab_type": "code",
        "colab": {}
      },
      "cell_type": "code",
      "source": [
        "def test(model, data, args):\n",
        "    x_test, y_test = data\n",
        "    y_pred, x_recon = model.predict(x_test, batch_size=100)\n",
        "    print('-'*30 + 'Begin: test' + '-'*30)\n",
        "    print('Test acc:', np.sum(np.argmax(y_pred, 1) == np.argmax(y_test, 1))/y_test.shape[0])\n",
        "\n",
        "    img = combine_images(np.concatenate([x_test[:50],x_recon[:50]]))\n",
        "    image = img * 255\n",
        "    Image.fromarray(image.astype(np.uint8)).save(args.save_dir + \"/real_and_recon.png\")\n",
        "    print()\n",
        "    print('Reconstructed images are saved to %s/real_and_recon.png' % args.save_dir)\n",
        "    print('-' * 30 + 'End: test' + '-' * 30)\n",
        "    plt.imshow(plt.imread(args.save_dir + \"/real_and_recon.png\"))\n",
        "    plt.show()"
      ],
      "execution_count": 0,
      "outputs": []
    },
    {
      "metadata": {
        "id": "cNqp80_de4nr",
        "colab_type": "code",
        "colab": {}
      },
      "cell_type": "code",
      "source": [
        "def manipulate_latent(model, data, args):\n",
        "    print('-'*30 + 'Begin: manipulate' + '-'*30)\n",
        "    x_test, y_test = data\n",
        "    index = np.argmax(y_test, 1) == args.digit\n",
        "    number = np.random.randint(low=0, high=sum(index) - 1)\n",
        "    x, y = x_test[index][number], y_test[index][number]\n",
        "    x, y = np.expand_dims(x, 0), np.expand_dims(y, 0)\n",
        "    noise = np.zeros([1, 10, 16])\n",
        "    x_recons = []\n",
        "    for dim in range(16):\n",
        "        for r in [-0.25, -0.2, -0.15, -0.1, -0.05, 0, 0.05, 0.1, 0.15, 0.2, 0.25]:\n",
        "            tmp = np.copy(noise)\n",
        "            tmp[:,:,dim] = r\n",
        "            x_recon = model.predict([x, y, tmp])\n",
        "            x_recons.append(x_recon)\n",
        "\n",
        "    x_recons = np.concatenate(x_recons)\n",
        "\n",
        "    img = combine_images(x_recons, height=16)\n",
        "    image = img*255\n",
        "    Image.fromarray(image.astype(np.uint8)).save(args.save_dir + '/manipulate-%d.png' % args.digit)\n",
        "    print('manipulated result saved to %s/manipulate-%d.png' % (args.save_dir, args.digit))\n",
        "    print('-' * 30 + 'End: manipulate' + '-' * 30)"
      ],
      "execution_count": 0,
      "outputs": []
    },
    {
      "metadata": {
        "id": "tMDp_DFIe7qR",
        "colab_type": "code",
        "colab": {}
      },
      "cell_type": "code",
      "source": [
        "def load_mnist():\n",
        "    # the data, shuffled and split between train and test sets\n",
        "    from keras.datasets import mnist\n",
        "    (x_train, y_train), (x_test, y_test) = mnist.load_data()\n",
        "\n",
        "    x_train = x_train.reshape(-1, 28, 28, 1).astype('float32') / 255.\n",
        "    x_test = x_test.reshape(-1, 28, 28, 1).astype('float32') / 255.\n",
        "    y_train = to_categorical(y_train.astype('float32'))\n",
        "    y_test = to_categorical(y_test.astype('float32'))\n",
        "    return (x_train, y_train), (x_test, y_test)"
      ],
      "execution_count": 0,
      "outputs": []
    },
    {
      "metadata": {
        "id": "JlzzWZ6_e-AC",
        "colab_type": "code",
        "colab": {}
      },
      "cell_type": "code",
      "source": [
        "import os\n",
        "import argparse\n",
        "from keras.preprocessing.image import ImageDataGenerator\n",
        "from keras import callbacks"
      ],
      "execution_count": 0,
      "outputs": []
    },
    {
      "metadata": {
        "id": "e1cuY49RTkkJ",
        "colab_type": "code",
        "outputId": "2ce1f3f6-e4e4-4d1c-eb1e-24de64eea3ec",
        "colab": {
          "base_uri": "https://localhost:8080/",
          "height": 34
        }
      },
      "cell_type": "code",
      "source": [
        "x_train.shape[1:]"
      ],
      "execution_count": 0,
      "outputs": [
        {
          "output_type": "execute_result",
          "data": {
            "text/plain": [
              "(28, 28, 1)"
            ]
          },
          "metadata": {
            "tags": []
          },
          "execution_count": 30
        }
      ]
    },
    {
      "metadata": {
        "id": "_rou1-vVfIDz",
        "colab_type": "code",
        "outputId": "1f43181a-7937-47d5-b022-87ff13d262db",
        "colab": {
          "base_uri": "https://localhost:8080/",
          "height": 493
        }
      },
      "cell_type": "code",
      "source": [
        "# load data\n",
        "(x_train, y_train), (x_test, y_test) = load_mnist()\n",
        "\n",
        "# define model\n",
        "model, eval_model, manipulate_model = CapsNet(input_shape=(256, 256, 1),\n",
        "                                              n_class=len(np.unique(np.argmax(y_train, 1))),\n",
        "                                              routings=3)\n",
        "model.summary()"
      ],
      "execution_count": 0,
      "outputs": [
        {
          "output_type": "stream",
          "text": [
            "__________________________________________________________________________________________________\n",
            "Layer (type)                    Output Shape         Param #     Connected to                     \n",
            "==================================================================================================\n",
            "input_4 (InputLayer)            (None, 256, 256, 1)  0                                            \n",
            "__________________________________________________________________________________________________\n",
            "conv1 (Conv2D)                  (None, 248, 248, 256 20992       input_4[0][0]                    \n",
            "__________________________________________________________________________________________________\n",
            "primarycap_conv2d (Conv2D)      (None, 120, 120, 256 5308672     conv1[0][0]                      \n",
            "__________________________________________________________________________________________________\n",
            "primarycap_reshape (Reshape)    (None, 460800, 8)    0           primarycap_conv2d[0][0]          \n",
            "__________________________________________________________________________________________________\n",
            "primarycap_squash (Lambda)      (None, 460800, 8)    0           primarycap_reshape[0][0]         \n",
            "__________________________________________________________________________________________________\n",
            "digitcaps (CapsuleLayer)        (None, 10, 16)       589824000   primarycap_squash[0][0]          \n",
            "__________________________________________________________________________________________________\n",
            "input_5 (InputLayer)            (None, 10)           0                                            \n",
            "__________________________________________________________________________________________________\n",
            "mask_4 (Mask)                   (None, 160)          0           digitcaps[0][0]                  \n",
            "                                                                 input_5[0][0]                    \n",
            "__________________________________________________________________________________________________\n",
            "capsnet (Length)                (None, 10)           0           digitcaps[0][0]                  \n",
            "__________________________________________________________________________________________________\n",
            "decoder (Sequential)            (None, 256, 256, 1)  67782144    mask_4[0][0]                     \n",
            "==================================================================================================\n",
            "Total params: 662,935,808\n",
            "Trainable params: 662,935,808\n",
            "Non-trainable params: 0\n",
            "__________________________________________________________________________________________________\n"
          ],
          "name": "stdout"
        }
      ]
    },
    {
      "metadata": {
        "id": "gT2pct9JgDdN",
        "colab_type": "code",
        "outputId": "a8591c02-4da0-4a31-cf45-86bd37d200e3",
        "colab": {
          "base_uri": "https://localhost:8080/",
          "height": 54
        }
      },
      "cell_type": "code",
      "source": [
        "# setting the hyper parameters\n",
        "parser = argparse.ArgumentParser(description=\"Capsule Network on MNIST.\")\n",
        "parser.add_argument('--epochs', default=20, type=int)\n",
        "parser.add_argument('--batch_size', default=200, type=int)\n",
        "parser.add_argument('--lr', default=0.001, type=float,\n",
        "                    help=\"Initial learning rate\")\n",
        "parser.add_argument('--lr_decay', default=0.9, type=float,\n",
        "                    help=\"The value multiplied by lr at each epoch. Set a larger value for larger epochs\")\n",
        "parser.add_argument('--lam_recon', default=0.392, type=float,\n",
        "                    help=\"The coefficient for the loss of decoder\")\n",
        "parser.add_argument('-r', '--routings', default=3, type=int,\n",
        "                    help=\"Number of iterations used in routing algorithm. should > 0\")\n",
        "parser.add_argument('--shift_fraction', default=0.1, type=float,\n",
        "                    help=\"Fraction of pixels to shift at most in each direction.\")\n",
        "parser.add_argument('--debug', action='store_true',\n",
        "                    help=\"Save weights by TensorBoard\")\n",
        "parser.add_argument('--save_dir', default='./result')\n",
        "parser.add_argument('-t', '--testing', action='store_true',\n",
        "                    help=\"Test the trained model on testing dataset\")\n",
        "parser.add_argument('--digit', default=5, type=int,\n",
        "                    help=\"Digit to manipulate\")\n",
        "parser.add_argument('-w', '--weights', default=\"./result/weights-20.h5\",\n",
        "                    help=\"The path of the saved weights. Should be specified when testing\")\n",
        "parser.add_argument(\n",
        "        '-f',\n",
        "        '--file',\n",
        "        help='Path for input file. First line should contain number of lines to search in'\n",
        "    )\n",
        "args = parser.parse_args()\n",
        "print(args)"
      ],
      "execution_count": 0,
      "outputs": [
        {
          "output_type": "stream",
          "text": [
            "Namespace(batch_size=200, debug=False, digit=5, epochs=20, file='/root/.local/share/jupyter/runtime/kernel-5c107db3-6dd3-4bb0-ab7e-e27824b0ab13.json', lam_recon=0.392, lr=0.001, lr_decay=0.9, routings=3, save_dir='./result', shift_fraction=0.1, testing=False, weights='./result/weights-20.h5')\n"
          ],
          "name": "stdout"
        }
      ]
    },
    {
      "metadata": {
        "id": "diBlTSgGf8Qf",
        "colab_type": "code",
        "outputId": "65972f20-5d1a-45f4-c4de-9c7cda4e6bc0",
        "colab": {
          "base_uri": "https://localhost:8080/",
          "height": 1866
        }
      },
      "cell_type": "code",
      "source": [
        "train(model=model, data=((x_train, y_train), (x_test, y_test)), args=args)"
      ],
      "execution_count": 0,
      "outputs": [
        {
          "output_type": "stream",
          "text": [
            "Epoch 1/20\n",
            "300/300 [==============================] - 296s 988ms/step - loss: 0.8385 - capsnet_loss: 0.8094 - decoder_loss: 0.0742 - capsnet_acc: 0.0838 - val_loss: 0.8365 - val_capsnet_loss: 0.8094 - val_decoder_loss: 0.0691 - val_capsnet_acc: 0.1061\n",
            "\n",
            "Epoch 00001: val_capsnet_acc improved from -inf to 0.10610, saving model to ./result/weights-01.h5\n",
            "Epoch 2/20\n",
            "300/300 [==============================] - 288s 958ms/step - loss: 0.6644 - capsnet_loss: 0.6409 - decoder_loss: 0.0601 - capsnet_acc: 0.2584 - val_loss: 0.2289 - val_capsnet_loss: 0.2070 - val_decoder_loss: 0.0557 - val_capsnet_acc: 0.8162\n",
            "\n",
            "Epoch 00002: val_capsnet_acc improved from 0.10610 to 0.81620, saving model to ./result/weights-02.h5\n",
            "Epoch 3/20\n",
            "300/300 [==============================] - 287s 957ms/step - loss: 0.1869 - capsnet_loss: 0.1670 - decoder_loss: 0.0508 - capsnet_acc: 0.8443 - val_loss: 0.1120 - val_capsnet_loss: 0.0909 - val_decoder_loss: 0.0540 - val_capsnet_acc: 0.9394\n",
            "\n",
            "Epoch 00003: val_capsnet_acc improved from 0.81620 to 0.93940, saving model to ./result/weights-03.h5\n",
            "Epoch 4/20\n",
            "300/300 [==============================] - 288s 961ms/step - loss: 0.1186 - capsnet_loss: 0.1004 - decoder_loss: 0.0463 - capsnet_acc: 0.9098 - val_loss: 0.0727 - val_capsnet_loss: 0.0528 - val_decoder_loss: 0.0508 - val_capsnet_acc: 0.9592\n",
            "\n",
            "Epoch 00004: val_capsnet_acc improved from 0.93940 to 0.95920, saving model to ./result/weights-04.h5\n",
            "Epoch 5/20\n",
            "300/300 [==============================] - 287s 958ms/step - loss: 0.0898 - capsnet_loss: 0.0729 - decoder_loss: 0.0432 - capsnet_acc: 0.9350 - val_loss: 0.0686 - val_capsnet_loss: 0.0494 - val_decoder_loss: 0.0490 - val_capsnet_acc: 0.9618\n",
            "\n",
            "Epoch 00005: val_capsnet_acc improved from 0.95920 to 0.96180, saving model to ./result/weights-05.h5\n",
            "Epoch 6/20\n",
            "300/300 [==============================] - 290s 968ms/step - loss: 0.0757 - capsnet_loss: 0.0597 - decoder_loss: 0.0408 - capsnet_acc: 0.9461 - val_loss: 0.0599 - val_capsnet_loss: 0.0414 - val_decoder_loss: 0.0471 - val_capsnet_acc: 0.9675\n",
            "\n",
            "Epoch 00006: val_capsnet_acc improved from 0.96180 to 0.96750, saving model to ./result/weights-06.h5\n",
            "Epoch 7/20\n",
            "300/300 [==============================] - 290s 966ms/step - loss: 0.0658 - capsnet_loss: 0.0506 - decoder_loss: 0.0387 - capsnet_acc: 0.9563 - val_loss: 0.0495 - val_capsnet_loss: 0.0315 - val_decoder_loss: 0.0457 - val_capsnet_acc: 0.9741\n",
            "\n",
            "Epoch 00007: val_capsnet_acc improved from 0.96750 to 0.97410, saving model to ./result/weights-07.h5\n",
            "Epoch 8/20\n",
            "300/300 [==============================] - 288s 959ms/step - loss: 0.0598 - capsnet_loss: 0.0452 - decoder_loss: 0.0371 - capsnet_acc: 0.9600 - val_loss: 0.0505 - val_capsnet_loss: 0.0333 - val_decoder_loss: 0.0440 - val_capsnet_acc: 0.9744\n",
            "\n",
            "Epoch 00008: val_capsnet_acc improved from 0.97410 to 0.97440, saving model to ./result/weights-08.h5\n",
            "Epoch 9/20\n",
            "300/300 [==============================] - 288s 961ms/step - loss: 0.0551 - capsnet_loss: 0.0412 - decoder_loss: 0.0356 - capsnet_acc: 0.9640 - val_loss: 0.0428 - val_capsnet_loss: 0.0263 - val_decoder_loss: 0.0422 - val_capsnet_acc: 0.9807\n",
            "\n",
            "Epoch 00009: val_capsnet_acc improved from 0.97440 to 0.98070, saving model to ./result/weights-09.h5\n",
            "Epoch 10/20\n",
            "300/300 [==============================] - 288s 960ms/step - loss: 0.0506 - capsnet_loss: 0.0371 - decoder_loss: 0.0344 - capsnet_acc: 0.9677 - val_loss: 0.0402 - val_capsnet_loss: 0.0241 - val_decoder_loss: 0.0412 - val_capsnet_acc: 0.9801\n",
            "\n",
            "Epoch 00010: val_capsnet_acc did not improve from 0.98070\n",
            "Epoch 11/20\n",
            "300/300 [==============================] - 286s 954ms/step - loss: 0.0474 - capsnet_loss: 0.0343 - decoder_loss: 0.0333 - capsnet_acc: 0.9698 - val_loss: 0.0420 - val_capsnet_loss: 0.0259 - val_decoder_loss: 0.0409 - val_capsnet_acc: 0.9824\n",
            "\n",
            "Epoch 00011: val_capsnet_acc improved from 0.98070 to 0.98240, saving model to ./result/weights-11.h5\n",
            "Epoch 12/20\n",
            "300/300 [==============================] - 288s 961ms/step - loss: 0.0445 - capsnet_loss: 0.0318 - decoder_loss: 0.0324 - capsnet_acc: 0.9717 - val_loss: 0.0366 - val_capsnet_loss: 0.0211 - val_decoder_loss: 0.0395 - val_capsnet_acc: 0.9829\n",
            "\n",
            "Epoch 00012: val_capsnet_acc improved from 0.98240 to 0.98290, saving model to ./result/weights-12.h5\n",
            "Epoch 13/20\n",
            "300/300 [==============================] - 289s 962ms/step - loss: 0.0421 - capsnet_loss: 0.0298 - decoder_loss: 0.0315 - capsnet_acc: 0.9746 - val_loss: 0.0379 - val_capsnet_loss: 0.0229 - val_decoder_loss: 0.0381 - val_capsnet_acc: 0.9813\n",
            "\n",
            "Epoch 00013: val_capsnet_acc did not improve from 0.98290\n",
            "Epoch 14/20\n",
            "300/300 [==============================] - 289s 964ms/step - loss: 0.0402 - capsnet_loss: 0.0281 - decoder_loss: 0.0308 - capsnet_acc: 0.9756 - val_loss: 0.0348 - val_capsnet_loss: 0.0200 - val_decoder_loss: 0.0379 - val_capsnet_acc: 0.9827\n",
            "\n",
            "Epoch 00014: val_capsnet_acc did not improve from 0.98290\n",
            "Epoch 15/20\n",
            "300/300 [==============================] - 288s 961ms/step - loss: 0.0387 - capsnet_loss: 0.0269 - decoder_loss: 0.0301 - capsnet_acc: 0.9765 - val_loss: 0.0321 - val_capsnet_loss: 0.0178 - val_decoder_loss: 0.0365 - val_capsnet_acc: 0.9858\n",
            "\n",
            "Epoch 00015: val_capsnet_acc improved from 0.98290 to 0.98580, saving model to ./result/weights-15.h5\n",
            "Epoch 16/20\n",
            "300/300 [==============================] - 290s 968ms/step - loss: 0.0374 - capsnet_loss: 0.0259 - decoder_loss: 0.0295 - capsnet_acc: 0.9778 - val_loss: 0.0366 - val_capsnet_loss: 0.0224 - val_decoder_loss: 0.0362 - val_capsnet_acc: 0.9843\n",
            "\n",
            "Epoch 00016: val_capsnet_acc did not improve from 0.98580\n",
            "Epoch 17/20\n",
            "300/300 [==============================] - 288s 962ms/step - loss: 0.0364 - capsnet_loss: 0.0251 - decoder_loss: 0.0290 - capsnet_acc: 0.9785 - val_loss: 0.0325 - val_capsnet_loss: 0.0185 - val_decoder_loss: 0.0357 - val_capsnet_acc: 0.9840\n",
            "\n",
            "Epoch 00017: val_capsnet_acc did not improve from 0.98580\n",
            "Epoch 18/20\n",
            "300/300 [==============================] - 291s 969ms/step - loss: 0.0348 - capsnet_loss: 0.0236 - decoder_loss: 0.0286 - capsnet_acc: 0.9793 - val_loss: 0.0316 - val_capsnet_loss: 0.0178 - val_decoder_loss: 0.0352 - val_capsnet_acc: 0.9860\n",
            "\n",
            "Epoch 00018: val_capsnet_acc improved from 0.98580 to 0.98600, saving model to ./result/weights-18.h5\n",
            "Epoch 19/20\n",
            "300/300 [==============================] - 289s 964ms/step - loss: 0.0345 - capsnet_loss: 0.0234 - decoder_loss: 0.0283 - capsnet_acc: 0.9794 - val_loss: 0.0317 - val_capsnet_loss: 0.0180 - val_decoder_loss: 0.0350 - val_capsnet_acc: 0.9840\n",
            "\n",
            "Epoch 00019: val_capsnet_acc did not improve from 0.98600\n",
            "Epoch 20/20\n",
            "300/300 [==============================] - 290s 965ms/step - loss: 0.0338 - capsnet_loss: 0.0228 - decoder_loss: 0.0280 - capsnet_acc: 0.9798 - val_loss: 0.0296 - val_capsnet_loss: 0.0160 - val_decoder_loss: 0.0345 - val_capsnet_acc: 0.9880\n",
            "\n",
            "Epoch 00020: val_capsnet_acc improved from 0.98600 to 0.98800, saving model to ./result/weights-20.h5\n",
            "Trained model saved to './result/trained_model.h5'\n"
          ],
          "name": "stdout"
        },
        {
          "output_type": "display_data",
          "data": {
            "image/png": "[encoded data removed]",
            "text/plain": [
              "<matplotlib.figure.Figure at 0x7f3240265b70>"
            ]
          },
          "metadata": {
            "tags": []
          }
        },
        {
          "output_type": "execute_result",
          "data": {
            "text/plain": [
              "<keras.engine.training.Model at 0x7f32503b5be0>"
            ]
          },
          "metadata": {
            "tags": []
          },
          "execution_count": 22
        }
      ]
    },
    {
      "metadata": {
        "id": "7tLn9vXZgBH6",
        "colab_type": "code",
        "outputId": "67974be5-2b28-4ad0-d0c0-21ae9612e7cc",
        "colab": {
          "base_uri": "https://localhost:8080/",
          "height": 486
        }
      },
      "cell_type": "code",
      "source": [
        "if args.weights is None:\n",
        "  print('No weights are provided. Will test using random initialized weights.')\n",
        "  \n",
        "manipulate_latent(manipulate_model, (x_test, y_test), args)\n",
        "test(model=eval_model, data=(x_test, y_test), args=args)"
      ],
      "execution_count": 0,
      "outputs": [
        {
          "output_type": "stream",
          "text": [
            "------------------------------Begin: manipulate------------------------------\n",
            "manipulated result saved to ./result/manipulate-5.png\n",
            "------------------------------End: manipulate------------------------------\n",
            "------------------------------Begin: test------------------------------\n",
            "Test acc: 0.988\n",
            "\n",
            "Reconstructed images are saved to ./result/real_and_recon.png\n",
            "------------------------------End: test------------------------------\n"
          ],
          "name": "stdout"
        },
        {
          "output_type": "display_data",
          "data": {
            "image/png": "[encoded data removed]",
            "text/plain": [
              "<matplotlib.figure.Figure at 0x7f32402e9780>"
            ]
          },
          "metadata": {
            "tags": []
          }
        }
      ]
    }
  ]
}