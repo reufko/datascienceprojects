{
  "nbformat": 4,
  "nbformat_minor": 0,
  "metadata": {
    "colab": {
      "name": "dl_lstm_2.ipynb",
      "version": "0.3.2",
      "provenance": [],
      "collapsed_sections": []
    },
    "kernelspec": {
      "name": "python3",
      "display_name": "Python 3"
    },
    "accelerator": "GPU"
  },
  "cells": [
    {
      "metadata": {
        "id": "qCoJDeEHOns8",
        "colab_type": "text"
      },
      "cell_type": "markdown",
      "source": [
        "# Amazon Fine Food Reviews: Improving the Classification\n",
        "4 ways to improve the classification performance on the amazon fine food review dataset."
      ]
    },
    {
      "metadata": {
        "id": "FFGe-NAU8k_k",
        "colab_type": "code",
        "outputId": "5b388022-4299-44da-b053-5648aa25b8a3",
        "colab": {
          "base_uri": "https://localhost:8080/",
          "height": 714
        }
      },
      "cell_type": "code",
      "source": [
        "from keras.callbacks import Callback\n",
        "from keras.layers import Dense\n",
        "from keras.layers import Dropout\n",
        "from keras.layers.embeddings import Embedding\n",
        "from keras.layers import LSTM\n",
        "from keras.models import Sequential\n",
        "from keras.preprocessing.text import Tokenizer\n",
        "from keras.preprocessing import sequence\n",
        "from keras.utils import to_categorical\n",
        "from keras.datasets import imdb\n",
        "\n",
        "\n",
        "from sklearn.model_selection import train_test_split\n",
        "\n",
        "import matplotlib.pyplot as plt\n",
        "# needed in Google Colaboratory for callback plots:\n",
        "from IPython.display import clear_output\n",
        "# needed in notebooks for plotting:\n",
        "%matplotlib inline\n",
        "\n",
        "import pandas as pd\n",
        "\n",
        "import time\n",
        "\n",
        "!pip install gensim\n",
        "import gensim"
      ],
      "execution_count": 0,
      "outputs": [
        {
          "output_type": "stream",
          "text": [
            "Collecting gensim\n",
            "\u001b[?25l  Downloading https://files.pythonhosted.org/packages/27/a4/d10c0acc8528d838cda5eede0ee9c784caa598dbf40bd0911ff8d067a7eb/gensim-3.6.0-cp36-cp36m-manylinux1_x86_64.whl (23.6MB)\n",
            "\u001b[K    100% |████████████████████████████████| 23.6MB 1.9MB/s \n",
            "\u001b[?25hRequirement already satisfied: numpy>=1.11.3 in /usr/local/lib/python3.6/dist-packages (from gensim) (1.14.6)\n",
            "Collecting smart-open>=1.2.1 (from gensim)\n",
            "  Downloading https://files.pythonhosted.org/packages/4b/1f/6f27e3682124de63ac97a0a5876da6186de6c19410feab66c1543afab055/smart_open-1.7.1.tar.gz\n",
            "Requirement already satisfied: six>=1.5.0 in /usr/local/lib/python3.6/dist-packages (from gensim) (1.11.0)\n",
            "Requirement already satisfied: scipy>=0.18.1 in /usr/local/lib/python3.6/dist-packages (from gensim) (1.1.0)\n",
            "Collecting boto>=2.32 (from smart-open>=1.2.1->gensim)\n",
            "\u001b[?25l  Downloading https://files.pythonhosted.org/packages/23/10/c0b78c27298029e4454a472a1919bde20cb182dab1662cec7f2ca1dcc523/boto-2.49.0-py2.py3-none-any.whl (1.4MB)\n",
            "\u001b[K    100% |████████████████████████████████| 1.4MB 14.4MB/s \n",
            "\u001b[?25hCollecting bz2file (from smart-open>=1.2.1->gensim)\n",
            "  Downloading https://files.pythonhosted.org/packages/61/39/122222b5e85cd41c391b68a99ee296584b2a2d1d233e7ee32b4532384f2d/bz2file-0.98.tar.gz\n",
            "Requirement already satisfied: requests in /usr/local/lib/python3.6/dist-packages (from smart-open>=1.2.1->gensim) (2.18.4)\n",
            "Collecting boto3 (from smart-open>=1.2.1->gensim)\n",
            "\u001b[?25l  Downloading https://files.pythonhosted.org/packages/f5/5e/ea477bb26793598962ffdf1ffc7fb854c1eb3efb0dae213b4e0eb3e57311/boto3-1.9.52-py2.py3-none-any.whl (128kB)\n",
            "\u001b[K    100% |████████████████████████████████| 133kB 25.6MB/s \n",
            "\u001b[?25hRequirement already satisfied: certifi>=2017.4.17 in /usr/local/lib/python3.6/dist-packages (from requests->smart-open>=1.2.1->gensim) (2018.10.15)\n",
            "Requirement already satisfied: urllib3<1.23,>=1.21.1 in /usr/local/lib/python3.6/dist-packages (from requests->smart-open>=1.2.1->gensim) (1.22)\n",
            "Requirement already satisfied: chardet<3.1.0,>=3.0.2 in /usr/local/lib/python3.6/dist-packages (from requests->smart-open>=1.2.1->gensim) (3.0.4)\n",
            "Requirement already satisfied: idna<2.7,>=2.5 in /usr/local/lib/python3.6/dist-packages (from requests->smart-open>=1.2.1->gensim) (2.6)\n",
            "Collecting s3transfer<0.2.0,>=0.1.10 (from boto3->smart-open>=1.2.1->gensim)\n",
            "\u001b[?25l  Downloading https://files.pythonhosted.org/packages/d7/14/2a0004d487464d120c9fb85313a75cd3d71a7506955be458eebfe19a6b1d/s3transfer-0.1.13-py2.py3-none-any.whl (59kB)\n",
            "\u001b[K    100% |████████████████████████████████| 61kB 22.6MB/s \n",
            "\u001b[?25hCollecting jmespath<1.0.0,>=0.7.1 (from boto3->smart-open>=1.2.1->gensim)\n",
            "  Downloading https://files.pythonhosted.org/packages/b7/31/05c8d001f7f87f0f07289a5fc0fc3832e9a57f2dbd4d3b0fee70e0d51365/jmespath-0.9.3-py2.py3-none-any.whl\n",
            "Collecting botocore<1.13.0,>=1.12.52 (from boto3->smart-open>=1.2.1->gensim)\n",
            "\u001b[?25l  Downloading https://files.pythonhosted.org/packages/c9/02/8f40911f5a7dc233826a949363baa15590960cfe4fbbdb81325c9355598c/botocore-1.12.52-py2.py3-none-any.whl (5.0MB)\n",
            "\u001b[K    100% |████████████████████████████████| 5.0MB 6.5MB/s \n",
            "\u001b[?25hCollecting docutils>=0.10 (from botocore<1.13.0,>=1.12.52->boto3->smart-open>=1.2.1->gensim)\n",
            "\u001b[?25l  Downloading https://files.pythonhosted.org/packages/36/fa/08e9e6e0e3cbd1d362c3bbee8d01d0aedb2155c4ac112b19ef3cae8eed8d/docutils-0.14-py3-none-any.whl (543kB)\n",
            "\u001b[K    100% |████████████████████████████████| 552kB 22.1MB/s \n",
            "\u001b[?25hRequirement already satisfied: python-dateutil<3.0.0,>=2.1; python_version >= \"2.7\" in /usr/local/lib/python3.6/dist-packages (from botocore<1.13.0,>=1.12.52->boto3->smart-open>=1.2.1->gensim) (2.5.3)\n",
            "Building wheels for collected packages: smart-open, bz2file\n",
            "  Running setup.py bdist_wheel for smart-open ... \u001b[?25l-\b \b\\\b \bdone\n",
            "\u001b[?25h  Stored in directory: /root/.cache/pip/wheels/23/00/44/e5b939f7a80c04e32297dbd6d96fa3065af89ecf57e2b5f89f\n",
            "  Running setup.py bdist_wheel for bz2file ... \u001b[?25l-\b \bdone\n",
            "\u001b[?25h  Stored in directory: /root/.cache/pip/wheels/81/75/d6/e1317bf09bf1af5a30befc2a007869fa6e1f516b8f7c591cb9\n",
            "Successfully built smart-open bz2file\n",
            "Installing collected packages: boto, bz2file, docutils, jmespath, botocore, s3transfer, boto3, smart-open, gensim\n",
            "Successfully installed boto-2.49.0 boto3-1.9.52 botocore-1.12.52 bz2file-0.98 docutils-0.14 gensim-3.6.0 jmespath-0.9.3 s3transfer-0.1.13 smart-open-1.7.1\n"
          ],
          "name": "stdout"
        }
      ]
    },
    {
      "metadata": {
        "id": "I_jrcsJh8lpz",
        "colab_type": "code",
        "colab": {}
      },
      "cell_type": "code",
      "source": [
        "class LogCallback(Callback):\n",
        "  def on_train_begin(self, logs={}):\n",
        "    self.i = 0\n",
        "    self.x = []\n",
        "    self.losses = []\n",
        "    self.val_losses = []\n",
        "    self.acc = []\n",
        "    self.val_acc = []\n",
        "    self.fig = plt.figure()\n",
        "    self.logs = []\n",
        "    self.start_time = time.time()\n",
        "\n",
        "  def on_epoch_end(self, epoch, logs={None}):\n",
        "    self.logs.append(logs)\n",
        "    self.x.append(self.i)\n",
        "    self.i += 1\n",
        "    self.losses.append(logs.get('loss'))\n",
        "    self.val_losses.append(logs.get('val_loss'))\n",
        "    self.acc.append(logs.get('acc'))\n",
        "    self.val_acc.append(logs.get('val_acc'))\n",
        "\n",
        "    f, (ax1, ax2) = plt.subplots(1, 2, sharex=True)\n",
        "\n",
        "    clear_output(wait=True)\n",
        "\n",
        "    ax1.plot(self.x, self.losses, label=\"loss\")\n",
        "    ax1.plot(self.x, self.val_losses, label=\"validation loss\")\n",
        "    ax1.legend()\n",
        "\n",
        "    ax2.plot(self.x, self.acc, label=\"accuracy\")\n",
        "    ax2.plot(self.x, self.val_acc, label=\"validation accuracy\")\n",
        "    ax2.legend()\n",
        "\n",
        "    plt.show()\n",
        "\n",
        "  def on_train_end(self, logs=None):\n",
        "    print(f'Total training time: {time.time()-self.start_time:.2f} sec.')\n",
        "    print(f'Training log data:')\n",
        "    for i in range(len(self.losses)):\n",
        "      print(f'{i:2d}: {self.losses[i]} - {self.acc[i]} ')\n",
        "    print(f'Validation log data:')\n",
        "    for i in range(len(self.losses)):\n",
        "      print(f'{i:2d}: {self.val_losses[i]} - {self.val_acc[i]} ')\n",
        "       \n",
        "        \n",
        "live_plot = LogCallback()"
      ],
      "execution_count": 0,
      "outputs": []
    },
    {
      "metadata": {
        "id": "ecWK1qqi8tNh",
        "colab_type": "code",
        "colab": {}
      },
      "cell_type": "code",
      "source": [
        "#utilities\n",
        "def imdb_idx2word(dataset):\n",
        "  # map imdb IDs back to words\n",
        "  INDEX_FROM = 3   # word index offset\n",
        "  imdb_word2idx = imdb.get_word_index()\n",
        "  imdb_word2idx = {k:(v+INDEX_FROM) for k,v in imdb_word2idx.items()}\n",
        "  imdb_word2idx[\"<PAD>\"] = 0\n",
        "  imdb_word2idx[\"<START>\"] = 1\n",
        "  imdb_word2idx[\"<UNK>\"] = 2\n",
        "\n",
        "  imdb_idx2word = {value:key for key,value in imdb_word2idx.items()}\n",
        "  \n",
        "  reviews = []\n",
        "  for review in dataset:\n",
        "    reviews.append([imdb_idx2word[word] for word in review])\n",
        "  return reviews\n",
        "\n",
        "def embedding_idx2word(idx, word_mdoel):\n",
        "  if idx in word_model.wv.index2word:\n",
        "    return word_model.wv.index2word[idx]\n",
        "  else:\n",
        "    return '0'\n",
        "  \n",
        "def embedding_word2idx(word, word_model):\n",
        "  if word in word_model.wv.vocab:\n",
        "    return word_model.wv.vocab[word].index\n",
        "  else:\n",
        "    return 0\n"
      ],
      "execution_count": 0,
      "outputs": []
    },
    {
      "metadata": {
        "id": "rCKUULd18q_S",
        "colab_type": "text"
      },
      "cell_type": "markdown",
      "source": [
        "## Load  the data\n",
        "Load the csv-file in a pandas dataframe and take a look at its columns and labels. "
      ]
    },
    {
      "metadata": {
        "id": "SGdUKEx_8rsy",
        "colab_type": "code",
        "outputId": "4ac0ffa7-3666-4559-c25d-c5b5a3e72ec0",
        "colab": {
          "base_uri": "https://localhost:8080/",
          "height": 68
        }
      },
      "cell_type": "code",
      "source": [
        "max_features = 20000\n",
        "print('Loading data...')\n",
        "(x_train, y_train), (x_test, y_test) = imdb.load_data(num_words=max_features)\n",
        "print(len(x_train), 'train sequences')\n",
        "print(len(x_test), 'test sequences')\n",
        "\n",
        "\n"
      ],
      "execution_count": 0,
      "outputs": [
        {
          "output_type": "stream",
          "text": [
            "Loading data...\n",
            "25000 train sequences\n",
            "25000 test sequences\n"
          ],
          "name": "stdout"
        }
      ]
    },
    {
      "metadata": {
        "id": "veaLS4xIAqF4",
        "colab_type": "code",
        "colab": {}
      },
      "cell_type": "code",
      "source": [
        "x_train = imdb_idx2word(x_train)\n",
        "x_test = imdb_idx2word(x_test)\n"
      ],
      "execution_count": 0,
      "outputs": []
    },
    {
      "metadata": {
        "id": "90r_pJE-A0n4",
        "colab_type": "code",
        "colab": {}
      },
      "cell_type": "code",
      "source": [
        "word_model = gensim.models.fasttext.FastText(x_train, size=100)\n",
        "pretrained_weights = word_model.wv.vectors\n",
        "vocab_size, embedding_size = pretrained_weights.shape\n",
        "  \n",
        "for i in range(len(x_train)):\n",
        "  x_train[i] = [embedding_word2idx(word, word_model) for word in x_train[i]]\n",
        "for i in range(len(x_test)):\n",
        "  x_test[i] = [embedding_word2idx(word, word_model) for word in x_test[i]]"
      ],
      "execution_count": 0,
      "outputs": []
    },
    {
      "metadata": {
        "id": "5rUB0kjX_Wej",
        "colab_type": "code",
        "outputId": "f9ec67f5-caf9-479c-c47b-86a7d8343090",
        "colab": {
          "base_uri": "https://localhost:8080/",
          "height": 147
        }
      },
      "cell_type": "code",
      "source": [
        "# pad sequences\n",
        "maxlen = 80\n",
        "x_train = sequence.pad_sequences(x_train, maxlen=maxlen)\n",
        "x_test = sequence.pad_sequences(x_test, maxlen=maxlen)\n",
        "print(x_train[0])\n",
        "\n",
        "y_train = to_categorical(y_train, num_classes=2)\n",
        "y_test = to_categorical(y_test, num_classes=2)"
      ],
      "execution_count": 0,
      "outputs": [
        {
          "output_type": "stream",
          "text": [
            "[   12   254     0     1     4  3735     2   721    34    69    41   527\n",
            "   474    23   397   315    44     4     0 11927  1026    10   102    86\n",
            "     0   379    12   295    96    30  2065    54    23   139     3   192\n",
            "  7477    15     0   224    19    18   132   474    23   478     2   142\n",
            "    27  5515    15    49    34    25   222    90    22   102     0   224\n",
            "    63    13    36  1332    86     9    13   281     2    13  4451   111\n",
            "   101    30    12    13  5341    16   176    30]\n"
          ],
          "name": "stdout"
        }
      ]
    },
    {
      "metadata": {
        "id": "2A3S5gOL-LXr",
        "colab_type": "text"
      },
      "cell_type": "markdown",
      "source": [
        "## Pre-trained embeddings\n",
        "The original implementation as starting point."
      ]
    },
    {
      "metadata": {
        "id": "1KH_vmZJ-YLy",
        "colab_type": "code",
        "outputId": "b62a67f4-3ec3-4faa-f419-d3e2bd7e6ea4",
        "colab": {
          "base_uri": "https://localhost:8080/",
          "height": 314
        }
      },
      "cell_type": "code",
      "source": [
        "model = Sequential()\n",
        "model.add(Embedding(input_dim=vocab_size, output_dim=embedding_size, weights=[pretrained_weights], trainable=False))\n",
        "model.add(LSTM(100))\n",
        "model.add(Dropout(0.1))\n",
        "model.add(Dense(2, activation='sigmoid'))\n",
        "\n",
        "model.compile(loss='categorical_crossentropy', optimizer='adam', metrics=['accuracy'])\n",
        "print(model.summary())"
      ],
      "execution_count": 0,
      "outputs": [
        {
          "output_type": "stream",
          "text": [
            "_________________________________________________________________\n",
            "Layer (type)                 Output Shape              Param #   \n",
            "=================================================================\n",
            "embedding_6 (Embedding)      (None, None, 100)         1999800   \n",
            "_________________________________________________________________\n",
            "lstm_6 (LSTM)                (None, 100)               80400     \n",
            "_________________________________________________________________\n",
            "dropout_2 (Dropout)          (None, 100)               0         \n",
            "_________________________________________________________________\n",
            "dense_5 (Dense)              (None, 2)                 202       \n",
            "=================================================================\n",
            "Total params: 2,080,402\n",
            "Trainable params: 80,602\n",
            "Non-trainable params: 1,999,800\n",
            "_________________________________________________________________\n",
            "None\n"
          ],
          "name": "stdout"
        }
      ]
    },
    {
      "metadata": {
        "id": "WN-Lz-gwHq3v",
        "colab_type": "code",
        "outputId": "5ba5ad11-b2ed-404f-d7c3-fd126692da46",
        "colab": {
          "base_uri": "https://localhost:8080/",
          "height": 691
        }
      },
      "cell_type": "code",
      "source": [
        "batch_size = 128\n",
        "history = model.fit(x_train, y_train, batch_size=batch_size, epochs=10, validation_data=(x_test, y_test), callbacks=[live_plot])"
      ],
      "execution_count": 0,
      "outputs": [
        {
          "output_type": "display_data",
          "data": {
            "image/png": "[encoded data removed]",
            "text/plain": [
              "<matplotlib.figure.Figure at 0x7f5d6d9f8198>"
            ]
          },
          "metadata": {
            "tags": []
          }
        },
        {
          "output_type": "stream",
          "text": [
            "Total training time: 454.73 sec.\n",
            "Training log data:\n",
            " 0: 0.5458115672492981 - 0.7163200000190735 \n",
            " 1: 0.4347810256576538 - 0.7978399999618531 \n",
            " 2: 0.38816891248703 - 0.8252400000190735 \n",
            " 3: 0.3578590129852295 - 0.84024 \n",
            " 4: 0.32553416648387906 - 0.8564799999809265 \n",
            " 5: 0.30286597403526305 - 0.8668 \n",
            " 6: 0.2792622958946228 - 0.88 \n",
            " 7: 0.2586790147781372 - 0.887839999961853 \n",
            " 8: 0.23037807482719422 - 0.9002000000190735 \n",
            " 9: 0.21807333111524582 - 0.90888 \n",
            "Validation log data:\n",
            " 0: 0.46129268303871157 - 0.785479999961853 \n",
            " 1: 0.4216181099033356 - 0.805680000038147 \n",
            " 2: 0.4105732905483246 - 0.8113999999809265 \n",
            " 3: 0.4031051277256012 - 0.8131199999809265 \n",
            " 4: 0.3777162823009491 - 0.8264000000190734 \n",
            " 5: 0.37205507117271425 - 0.8333199999809265 \n",
            " 6: 0.3852291141414642 - 0.8360400000381469 \n",
            " 7: 0.43402789673805237 - 0.8122399999809266 \n",
            " 8: 0.383343530292511 - 0.836200000038147 \n",
            " 9: 0.4088136758804321 - 0.8337199999809265 \n"
          ],
          "name": "stdout"
        }
      ]
    }
  ]
}